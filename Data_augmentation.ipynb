{
 "cells": [
  {
   "cell_type": "code",
   "execution_count": 1,
   "id": "4b28d109-23c1-4af6-b55f-cc1d629a7689",
   "metadata": {},
   "outputs": [],
   "source": [
    "from tensorflow.keras.preprocessing import image"
   ]
  },
  {
   "cell_type": "code",
   "execution_count": 2,
   "id": "42cd26eb-1f39-47eb-84e4-fb50365c702d",
   "metadata": {},
   "outputs": [],
   "source": [
    "datagen= image.ImageDataGenerator(\n",
    "    rotation_range=40,\n",
    "    width_shift_range=0.2,\n",
    "    height_shift_range=0.2,\n",
    "    shear_range=0.2,\n",
    "    zoom_range=0.2, \n",
    "    horizontal_flip=True,\n",
    "    fill_mode=\"nearest\"\n",
    ")"
   ]
  },
  {
   "cell_type": "code",
   "execution_count": 3,
   "id": "eb62449c-d478-4294-98a6-3a3a01084f97",
   "metadata": {},
   "outputs": [],
   "source": [
    "img = image.load_img(\"10000.jpg\")"
   ]
  },
  {
   "cell_type": "code",
   "execution_count": 4,
   "id": "95e1ac83-a337-4ba5-b62e-73d47f64b41e",
   "metadata": {},
   "outputs": [],
   "source": [
    "x=image.img_to_array(img)\n",
    "x=x.reshape((1,) + x.shape)"
   ]
  },
  {
   "cell_type": "code",
   "execution_count": 6,
   "id": "dbdd9ed3-3b71-4c95-87ed-675ddada50fb",
   "metadata": {},
   "outputs": [],
   "source": [
    "i=0 \n",
    "for batch in datagen.flow(x,batch_size=1, save_to_dir=\"preview\",save_prefix=\"cat\", save_format=\".jpg\"):\n",
    "    i += 1\n",
    "    if i>20:\n",
    "        break"
   ]
  },
  {
   "cell_type": "code",
   "execution_count": null,
   "id": "78808098-095f-4aff-a4f9-033ba324600d",
   "metadata": {},
   "outputs": [],
   "source": []
  },
  {
   "cell_type": "code",
   "execution_count": null,
   "id": "ed92a52c-746d-4f3f-8bf1-0584fb6c8832",
   "metadata": {},
   "outputs": [],
   "source": []
  }
 ],
 "metadata": {
  "kernelspec": {
   "display_name": "Python 3 (ipykernel)",
   "language": "python",
   "name": "python3"
  },
  "language_info": {
   "codemirror_mode": {
    "name": "ipython",
    "version": 3
   },
   "file_extension": ".py",
   "mimetype": "text/x-python",
   "name": "python",
   "nbconvert_exporter": "python",
   "pygments_lexer": "ipython3",
   "version": "3.11.9"
  }
 },
 "nbformat": 4,
 "nbformat_minor": 5
}
