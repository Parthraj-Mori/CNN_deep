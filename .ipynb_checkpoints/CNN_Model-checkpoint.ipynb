{
 "cells": [
  {
   "cell_type": "code",
   "execution_count": 1,
   "metadata": {
    "id": "GbB2qeNnlZNG"
   },
   "outputs": [],
   "source": [
    "import tensorflow\n",
    "from tensorflow import keras\n"
   ]
  },
  {
   "cell_type": "code",
   "execution_count": 2,
   "metadata": {},
   "outputs": [],
   "source": [
    "import os\n",
    "\n",
    "# Assuming \"Project\" exists\n",
    "trial_dir = os.path.join(\"Project\", \"cats_and_dogs\", \"trial_0\")\n",
    "os.makedirs(trial_dir, exist_ok=True)  # Create directories if they don't exist"
   ]
  },
  {
   "cell_type": "code",
   "execution_count": 3,
   "metadata": {
    "id": "K9HKJexqlcDM"
   },
   "outputs": [],
   "source": [
    "\n",
    "import os\n",
    "from keras.models import Sequential\n",
    "from keras.layers import Dense\n",
    "from keras.layers import Convolution2D\n",
    "from keras.layers import MaxPooling2D\n",
    "from keras.layers import Flatten ,Input"
   ]
  },
  {
   "cell_type": "code",
   "execution_count": 4,
   "metadata": {
    "id": "fZRS5JR0l5I1"
   },
   "outputs": [],
   "source": [
    "from keras.layers import ReLU,PReLU,LeakyReLU"
   ]
  },
  {
   "cell_type": "code",
   "execution_count": 5,
   "metadata": {
    "id": "j6hYWMW_mJ3W"
   },
   "outputs": [],
   "source": [
    "from keras.preprocessing import image"
   ]
  },
  {
   "cell_type": "code",
   "execution_count": 6,
   "metadata": {},
   "outputs": [],
   "source": [
    "from tensorflow.keras.preprocessing.image import ImageDataGenerator"
   ]
  },
  {
   "cell_type": "code",
   "execution_count": 7,
   "metadata": {
    "id": "OsiezFAVmOJE"
   },
   "outputs": [],
   "source": [
    "# datagen= ImageDataGenerator(\n",
    "#     rotation_range=40,\n",
    "#     width_shift_range=0.2,\n",
    "#     height_shift_range=0.2,\n",
    "#     shear_range=0.2,\n",
    "#     zoom_range=0.2,\n",
    "#     horizontal_flip=True,\n",
    "#     fill_mode=\"nearest\"\n",
    "# )"
   ]
  },
  {
   "cell_type": "code",
   "execution_count": 8,
   "metadata": {
    "id": "t2QqjOtzn6B7"
   },
   "outputs": [],
   "source": [
    "# img = image.load_img(\"download.jpeg\")"
   ]
  },
  {
   "cell_type": "code",
   "execution_count": 9,
   "metadata": {
    "id": "OsR2CciWoAI9"
   },
   "outputs": [],
   "source": [
    "# x=image.img_to_array(img)\n",
    "# x=x.reshape((1,) + x.shape)"
   ]
  },
  {
   "cell_type": "code",
   "execution_count": 10,
   "metadata": {
    "id": "O6UfJxTcoSCN"
   },
   "outputs": [],
   "source": [
    "# i=0\n",
    "# for batch in datagen.flow(x,batch_size=1, save_to_dir=\"Project/cats_and_dogs/train/Cat\",save_prefix=\"cat\", save_format=\".jpeg\"):\n",
    "#     i += 1\n",
    "#     if i>2000:\n",
    "#         break"
   ]
  },
  {
   "cell_type": "code",
   "execution_count": 11,
   "metadata": {
    "id": "xobRi4dIomX_"
   },
   "outputs": [],
   "source": [
    "# img_2 =image.load_img(\"OIP.jpeg\")"
   ]
  },
  {
   "cell_type": "code",
   "execution_count": 12,
   "metadata": {
    "id": "6h6o1Ke9owNg"
   },
   "outputs": [],
   "source": [
    "# y=image.img_to_array(img_2)\n",
    "# y=y.reshape((1,) + y.shape)"
   ]
  },
  {
   "cell_type": "code",
   "execution_count": 13,
   "metadata": {
    "id": "jDXs4WFoo2ye"
   },
   "outputs": [],
   "source": [
    "# i=0\n",
    "# for batch in datagen.flow(y,batch_size=1, save_to_dir=\"Project/cats_and_dogs/train/Dog\",save_prefix=\"dog\", save_format=\".jpeg\"):\n",
    "#     i += 1\n",
    "#     if i>2000:\n",
    "#         break"
   ]
  },
  {
   "cell_type": "code",
   "execution_count": 14,
   "metadata": {},
   "outputs": [
    {
     "name": "stdout",
     "output_type": "stream",
     "text": [
      "Found 3625 images belonging to 2 classes.\n",
      "Found 398 images belonging to 2 classes.\n"
     ]
    }
   ],
   "source": [
    "train_path = 'Project/cats_and_dogs/train'\n",
    "valid_path = 'Project/cats_and_dogs/test'\n",
    "\n",
    "# train_1= image.ImageDataGenerator(rescale=1./255)\n",
    "# valid_1= image.ImageDataGenerator(rescale=1./255)\n",
    "\n",
    "\n",
    "# train_data= image.flow_from_directory(train_path, batch_size=32)\n",
    "# valid_data= image.flow_from_directory(valid_path, batch_size=32)\n",
    "\n",
    "train_datagen = ImageDataGenerator(rescale = 1./255)\n",
    "\n",
    "test_datagen = ImageDataGenerator(rescale = 1./255)\n",
    "\n",
    "train_data= train_datagen.flow_from_directory(train_path, batch_size=3, target_size=(200,200),class_mode=\"binary\")\n",
    "\n",
    "valid_data= test_datagen.flow_from_directory(valid_path, batch_size=3, target_size=(200,200), class_mode=\"binary\")\n",
    "# valid_data= test_datagen.flow_from_directory(valid_path)"
   ]
  },
  {
   "cell_type": "code",
   "execution_count": 15,
   "metadata": {},
   "outputs": [],
   "source": [
    "model_1=Sequential()\n",
    "model_1.add(Input(shape=(200, 200, 3)))  # Replace height, width, channels with the actual dimensions of your input images\n",
    "model_1.add(Convolution2D(filters= 256, kernel_size=3, activation = \"relu\"))\n",
    "model_1.add(MaxPooling2D(pool_size=(2,2)))\n",
    "model_1.add(Convolution2D(filters= 384, kernel_size=5, activation = \"relu\"))\n",
    "model_1.add(MaxPooling2D(pool_size=(2,2)))\n",
    "model_1.add(Flatten())\n",
    "model_1.add(Dense(units=416, activation = \"relu\"))\n",
    "model_1.add(Dense(units=1,activation=\"sigmoid\"))"
   ]
  },
  {
   "cell_type": "code",
   "execution_count": 16,
   "metadata": {},
   "outputs": [],
   "source": [
    "model_1.compile(optimizer=\"adam\", loss=\"binary_crossentropy\", metrics= [\"accuracy\"])"
   ]
  },
  {
   "cell_type": "code",
   "execution_count": null,
   "metadata": {},
   "outputs": [
    {
     "name": "stdout",
     "output_type": "stream",
     "text": [
      "Epoch 1/10\n"
     ]
    },
    {
     "name": "stderr",
     "output_type": "stream",
     "text": [
      "C:\\Users\\Parthraj\\.conda\\envs\\MyDeepLearning\\Lib\\site-packages\\keras\\src\\trainers\\data_adapters\\py_dataset_adapter.py:121: UserWarning: Your `PyDataset` class should call `super().__init__(**kwargs)` in its constructor. `**kwargs` can include `workers`, `use_multiprocessing`, `max_queue_size`. Do not pass these arguments to `fit()`, as they will be ignored.\n",
      "  self._warn_if_super_not_called()\n"
     ]
    },
    {
     "name": "stdout",
     "output_type": "stream",
     "text": [
      "\u001b[1m  76/1209\u001b[0m \u001b[32m━\u001b[0m\u001b[37m━━━━━━━━━━━━━━━━━━━\u001b[0m \u001b[1m1:22:06\u001b[0m 4s/step - accuracy: 0.6985 - loss: 9.4035"
     ]
    }
   ],
   "source": [
    "model_1.fit(train_data, epochs=1, validation_data=valid_data,batch_size=8)"
   ]
  },
  {
   "cell_type": "code",
   "execution_count": null,
   "metadata": {},
   "outputs": [],
   "source": []
  },
  {
   "cell_type": "code",
   "execution_count": null,
   "metadata": {},
   "outputs": [],
   "source": []
  },
  {
   "cell_type": "code",
   "execution_count": null,
   "metadata": {},
   "outputs": [],
   "source": []
  }
 ],
 "metadata": {
  "colab": {
   "provenance": []
  },
  "kernelspec": {
   "display_name": "Python 3 (ipykernel)",
   "language": "python",
   "name": "python3"
  },
  "language_info": {
   "codemirror_mode": {
    "name": "ipython",
    "version": 3
   },
   "file_extension": ".py",
   "mimetype": "text/x-python",
   "name": "python",
   "nbconvert_exporter": "python",
   "pygments_lexer": "ipython3",
   "version": "3.11.9"
  }
 },
 "nbformat": 4,
 "nbformat_minor": 4
}
